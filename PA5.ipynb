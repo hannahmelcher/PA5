{
 "cells": [
  {
   "cell_type": "markdown",
   "id": "a65b9dd6",
   "metadata": {},
   "source": [
    "## Hannah Melcher\n",
    "## PA5 \n",
    "## Version 1\n",
    "## CS-150-01"
   ]
  },
  {
   "cell_type": "code",
   "execution_count": 6,
   "id": "3ec87e54",
   "metadata": {},
   "outputs": [
    {
     "name": "stdout",
     "output_type": "stream",
     "text": [
      "Enter a word to translate from English to German (Enter 0 to stop): green\n",
      "The German word for green is not in this dictionary\n",
      "Enter a word to translate from English to German (Enter 0 to stop): 0\n"
     ]
    }
   ],
   "source": [
    "dict1={\"hello\":\"hallo\",\n",
    "    \"woman\":\"frau\",\n",
    "   \"man\":\"mann\",\n",
    "   \"yellow\":\"gelb\",\n",
    "   'and':'und',\n",
    "   'america':'amerika',\n",
    "   'cat':'katze',\n",
    "   'car':'auto',\n",
    "   'war':'krieg',\n",
    "    'english':'englisch'}\n",
    "\n",
    "word=\" \"\n",
    "while word!='0':\n",
    "    word=input(\"Enter a word to translate from English to German (Enter 0 to stop): \")\n",
    "    if word in dict1:\n",
    "        dict1[word]\n",
    "    elif word=='0':\n",
    "        break\n",
    "    else:\n",
    "        print(\"The German word for\",word,\"is not in this dictionary\")"
   ]
  },
  {
   "cell_type": "code",
   "execution_count": 5,
   "id": "bb529fad",
   "metadata": {},
   "outputs": [
    {
     "name": "stdout",
     "output_type": "stream",
     "text": [
      "{1: 1, 2: 3, 3: 0, 4: 10, 5: 13, 6: 14, 7: 18, 8: 13, 9: 18, 10: 8, 11: 11, 12: 15, 13: 18, 14: 17, 15: 24, 16: 16, 17: 2, 18: 10, 19: 17, 20: 18, 21: 16, 22: 25, 23: 23, 24: 10, 25: 13, 26: 16, 27: 21, 28: 16}\n"
     ]
    }
   ],
   "source": [
    "weather= {1:34, 2:38, 3:32, 4:50, 5:55, 6:57, 7:64, 8:56, 9:64, 10:46, 11:51, 12:59, 13:64, 14:63, 15:75, 16:61, 17:35, 18:50, 19:62, 20:64, 21:61, 22:77, 23:74, 24:50, 25:56, 26:60, 27:70, 28:61}\n",
    "\n",
    "i=1\n",
    "while weather:\n",
    "    if i==29:\n",
    "        break\n",
    "    else:\n",
    "        weather[i]=round((weather[i]-32)*5/9)\n",
    "        i+=1\n",
    "print(weather)"
   ]
  },
  {
   "cell_type": "code",
   "execution_count": 1,
   "id": "2050a43b",
   "metadata": {},
   "outputs": [
    {
     "name": "stdout",
     "output_type": "stream",
     "text": [
      "{1: 1, 2: 4, 3: 9, 4: 16, 5: 25, 6: 36, 7: 49, 8: 64, 9: 81, 10: 100, 11: 121, 12: 144, 13: 169, 14: 196, 15: 225}\n"
     ]
    }
   ],
   "source": [
    "d=dict()\n",
    "for x in range(1,16):\n",
    "    d[x]=x**2\n",
    "print(d) "
   ]
  }
 ],
 "metadata": {
  "kernelspec": {
   "display_name": "Python 3 (ipykernel)",
   "language": "python",
   "name": "python3"
  },
  "language_info": {
   "codemirror_mode": {
    "name": "ipython",
    "version": 3
   },
   "file_extension": ".py",
   "mimetype": "text/x-python",
   "name": "python",
   "nbconvert_exporter": "python",
   "pygments_lexer": "ipython3",
   "version": "3.9.13"
  }
 },
 "nbformat": 4,
 "nbformat_minor": 5
}
